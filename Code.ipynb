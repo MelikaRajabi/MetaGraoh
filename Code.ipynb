{
  "nbformat": 4,
  "nbformat_minor": 0,
  "metadata": {
    "colab": {
      "name": "Project.ipynb",
      "provenance": [],
      "collapsed_sections": []
    },
    "kernelspec": {
      "name": "python3",
      "display_name": "Python 3"
    },
    "language_info": {
      "name": "python"
    },
    "accelerator": "GPU"
  },
  "cells": [
    {
      "cell_type": "code",
      "execution_count": null,
      "metadata": {
        "id": "OqnyprSl32BG"
      },
      "outputs": [],
      "source": [
        "# Functions\n",
        "\n",
        "import networkx as nx \n",
        "import numpy as np\n",
        "\n",
        "def all_pairs(nodes):\n",
        "    for i, u in enumerate(nodes):\n",
        "        for j, v in enumerate(nodes):\n",
        "            if i>j:\n",
        "                yield u, v\n",
        "\n",
        "def random_pairs(nodes, p):\n",
        "    for edge in all_pairs(nodes):\n",
        "        if flip(p):\n",
        "            yield edge\n",
        "            \n",
        "def flip(p):\n",
        "    return np.random.random() < p\n",
        "\n",
        "def make_random_graph(n, p):\n",
        "    G = nx.Graph()\n",
        "    nodes = range(n)\n",
        "    G.add_nodes_from(nodes)\n",
        "    G.add_edges_from(random_pairs(nodes, p))\n",
        "    return G\n",
        "\n",
        "def average(lst):\n",
        "    return sum(lst) / len(lst)\n",
        "    "
      ]
    },
    {
      "cell_type": "code",
      "source": [
        "# Question 1\n",
        "\n",
        "import networkx\n",
        "import numpy\n",
        "import matplotlib\n",
        "\n",
        "n = 1000\n",
        "m = 3000\n",
        "p = 0.0034\n",
        "\n",
        "friendships = []\n",
        "\n",
        "nodes = numpy.arange(n)\n",
        "\n",
        "for t in range(0,10):\n",
        "    \n",
        "    G = networkx.Graph()\n",
        "    G.add_nodes_from(nodes)\n",
        "    \n",
        "    for i in range(0,n):\n",
        "        for j in range(i+1,n):\n",
        "            s = numpy.random.choice([0,1], p=[1-0.0034, 0.0034])\n",
        "            \n",
        "            if s == 1:\n",
        "               G.add_edges_from([(nodes[i],nodes[j])])\n",
        "       \n",
        "    friendships.append(G.number_of_edges())\n",
        "    \n",
        "    G.clear()\n",
        "\n",
        "m_simulation = numpy.mean(friendships)\n",
        "print(m_simulation)\n"
      ],
      "metadata": {
        "id": "BborzjXn1IN7",
        "colab": {
          "base_uri": "https://localhost:8080/"
        },
        "outputId": "3dad938d-123f-4db5-aefc-a696c5aa0ce1"
      },
      "execution_count": null,
      "outputs": [
        {
          "output_type": "stream",
          "name": "stdout",
          "text": [
            "1670.8\n"
          ]
        }
      ]
    },
    {
      "cell_type": "code",
      "source": [
        "# Question 2\n",
        "\n",
        "import matplotlib.pyplot as plt\n",
        "import networkx as nx \n",
        "\n",
        "n = 1000\n",
        "p = 0.00016\n",
        "L = []\n",
        "n_plot = 10\n",
        "friends_n = list(range(0,n_plot))\n",
        "friendship_data = []\n",
        "social_person_n = []\n",
        "n_loop = 10\n",
        "  \n",
        "for i in range (0,n_loop):\n",
        "  haveFriend = [0]*n_plot\n",
        "  G = make_random_graph(n, p)\n",
        "  L.append(nx.Graph.number_of_edges(G)*2/n)\n",
        "  social_person_sum = 0\n",
        "\n",
        "  for j in range (0,n):\n",
        "    for k in range(0,len(friends_n)):\n",
        "      if(G.degree(j)==k):\n",
        "        haveFriend[k]+=1\n",
        "    if(G.degree(j)>L[i]):\n",
        "      social_person_sum += 1\n",
        "  social_person_n.append(social_person_sum)\n",
        "  friendship_data.append(haveFriend)\n",
        "print(average(social_person_n))\n",
        "\n",
        "ploting_data= [];\n",
        "for i in range (0,n_plot):\n",
        "  temp = []\n",
        "  for j in range (0,n_loop):\n",
        "    temp.append(friendship_data[j][i])\n",
        "  ploting_data.append(average(temp))\n",
        "\n",
        "plt.plot(friends_n, ploting_data)\n",
        "plt.xlabel('Number of friends')\n",
        "plt.ylabel('Number of person with this number of friend')\n",
        "plt.title('Part 3-1')\n",
        "plt.show()"
      ],
      "metadata": {
        "colab": {
          "base_uri": "https://localhost:8080/",
          "height": 313
        },
        "id": "2cR6jP5S4RJM",
        "outputId": "f308c2bc-b677-4ad5-bd5d-a51838ca2747"
      },
      "execution_count": null,
      "outputs": [
        {
          "output_type": "stream",
          "name": "stdout",
          "text": [
            "153.2\n"
          ]
        },
        {
          "output_type": "display_data",
          "data": {
            "image/png": "[encoded data removed]",
            "text/plain": [
              "<Figure size 432x288 with 1 Axes>"
            ]
          },
          "metadata": {
            "needs_background": "light"
          }
        }
      ]
    },
    {
      "cell_type": "code",
      "source": [
        "# Question 3\n",
        "# run time = 1m 38s\n",
        "\n",
        "import networkx as nx \n",
        "\n",
        "n = 3000\n",
        "p = 0.01\n",
        "loop_n = 5\n",
        "transitives = []\n",
        "competitions = []\n",
        "\n",
        "for i in range (0,loop_n):\n",
        "  transitive = 0\n",
        "  competition = 0\n",
        "  processed = []\n",
        "  random_graph = make_random_graph(n, p)\n",
        "\n",
        "  for j in range (0,n):\n",
        "    transitive += nx.triangles(random_graph,j)\n",
        "\n",
        "  dictionary = dict(nx.shortest_path_length(random_graph))\n",
        "  for k in range (0,len(dictionary)):\n",
        "    res = sum(x == 2 for x in dictionary[k].values())\n",
        "    competition += res/2\n",
        "    \n",
        "  transitives.append((transitive/3))\n",
        "  competitions.append(competition)\n",
        "\n",
        "print(average(transitives))\n",
        "print(average(competitions))"
      ],
      "metadata": {
        "id": "pQw1qZdbtdb_",
        "colab": {
          "base_uri": "https://localhost:8080/"
        },
        "outputId": "2a232664-0382-47d1-8198-819b11745364"
      },
      "execution_count": null,
      "outputs": [
        {
          "output_type": "stream",
          "name": "stdout",
          "text": [
            "4411.6\n",
            "1149307.2\n"
          ]
        }
      ]
    },
    {
      "cell_type": "code",
      "source": [
        "# Question 4\n",
        "# run time = 2m 35s\n",
        "\n",
        "import networkx as nx \n",
        "\n",
        "n = 2000\n",
        "p = 0.2\n",
        "loop_n = 3\n",
        "transitives = []\n",
        "competitions = []\n",
        "\n",
        "for i in range (0,loop_n):\n",
        "  transitive = 0\n",
        "  competition = 0\n",
        "  processed = []\n",
        "  random_graph = make_random_graph(n, p)\n",
        "\n",
        "  for j in range (0,n):\n",
        "    transitive += nx.triangles(random_graph,j)\n",
        "\n",
        "  dictionary = dict(nx.shortest_path_length(random_graph))\n",
        "  for k in range (0,len(dictionary)):\n",
        "    res = sum(x == 2 for x in dictionary[k].values())\n",
        "    competition += res/2\n",
        "    \n",
        "  transitives.append((transitive/3))\n",
        "  competitions.append(competition)\n",
        "\n",
        "print(average(transitives))\n",
        "print(average(competitions))"
      ],
      "metadata": {
        "id": "3vP7imH6m89L"
      },
      "execution_count": null,
      "outputs": []
    },
    {
      "cell_type": "code",
      "source": [
        "# Question 5\n",
        "# if all friendship must be around the base person\n",
        "\n",
        "import networkx as nx \n",
        "\n",
        "n = 1000\n",
        "p = 0.003\n",
        "sum_of_friendship = 0\n",
        "\n",
        "G = make_random_graph(n, p)\n",
        "\n",
        "for i in range(0,n):\n",
        "  sum_of_friendship += G.subgraph(G.adj[i]).number_of_edges()\n",
        "\n",
        "print(sum_of_friendship/n)"
      ],
      "metadata": {
        "id": "2LgBs18beq9O",
        "colab": {
          "base_uri": "https://localhost:8080/"
        },
        "outputId": "faa202ae-2029-4433-d63c-4658670f2e60"
      },
      "execution_count": null,
      "outputs": [
        {
          "output_type": "stream",
          "name": "stdout",
          "text": [
            "0.012\n"
          ]
        }
      ]
    },
    {
      "cell_type": "code",
      "source": [
        "# Question 5\n",
        "# if all friendship must not be around the base person\n",
        "\n",
        "import networkx as nx \n",
        "\n",
        "n = 1000\n",
        "p = 0.003\n",
        "sum_of_friendship = []\n",
        "\n",
        "G = make_random_graph(n, p)\n",
        "\n",
        "for i in range(0,n):\n",
        "  temp = 0\n",
        "  for j in range(0,G.degree(i)):\n",
        "    temp += G.degree(list(G.neighbors(i))[j])/2\n",
        "    sum_of_friendship.append(temp)\n",
        "\n",
        "print(average(sum_of_friendship))"
      ],
      "metadata": {
        "colab": {
          "base_uri": "https://localhost:8080/"
        },
        "id": "3rKK9oKaodh8",
        "outputId": "fa471c7b-4b9a-4e7b-ec90-8fd954c73cfa"
      },
      "execution_count": null,
      "outputs": [
        {
          "output_type": "stream",
          "name": "stdout",
          "text": [
            "4.719387755102041\n"
          ]
        }
      ]
    },
    {
      "cell_type": "code",
      "source": [
        "# Question 6\n",
        "\n",
        "import networkx as nx \n",
        "\n",
        "n = 1000\n",
        "p = 0.0033\n",
        "\n",
        "G = make_random_graph(n, p)\n",
        "\n",
        "sum = 0\n",
        "num = 0\n",
        "\n",
        "dictionary = dict(nx.shortest_path_length(G))\n",
        "for i in range (0,len(dictionary)):\n",
        "  for j in range (0,len(list(dictionary[i].values()))):\n",
        "    sum += list(dictionary[i].values())[j]\n",
        "  num += len(dictionary[i])\n",
        "\n",
        "print(sum/num)"
      ],
      "metadata": {
        "colab": {
          "base_uri": "https://localhost:8080/"
        },
        "id": "8ULgSQRthDhp",
        "outputId": "200905cb-41fb-43e3-dbd1-5cb663c5fe50"
      },
      "execution_count": null,
      "outputs": [
        {
          "output_type": "stream",
          "name": "stdout",
          "text": [
            "5.763380578738277\n"
          ]
        }
      ]
    },
    {
      "cell_type": "code",
      "source": [
        "# Question 7\n",
        "\n",
        "import networkx as nx \n",
        "\n",
        "n = 50\n",
        "p = 0.34\n",
        "loop_n = 100\n",
        "data = []\n",
        "\n",
        "for i in range (0,loop_n):\n",
        "  G = make_random_graph(n, p)\n",
        "  if(nx.is_connected(G) == False):\n",
        "      for j in range(0,n):\n",
        "        if(G.degree(j)==0):\n",
        "          G.remove_node(j)\n",
        "  data.append(nx.algorithms.distance_measures.diameter(G))\n",
        "\n",
        "print(average(data))"
      ],
      "metadata": {
        "colab": {
          "base_uri": "https://localhost:8080/"
        },
        "id": "I0D1werwy9C2",
        "outputId": "3817d6b8-a938-4fc3-f34f-6f1f4d9a02be"
      },
      "execution_count": null,
      "outputs": [
        {
          "output_type": "stream",
          "name": "stdout",
          "text": [
            "2.83\n"
          ]
        }
      ]
    },
    {
      "cell_type": "code",
      "source": [
        "# Question 8\n",
        "# run time : 8m 56s\n",
        "\n",
        "import networkx as nx \n",
        "import matplotlib.pyplot as plt\n",
        "\n",
        "n_s = 10\n",
        "p = 0.34\n",
        "loop_n = 100\n",
        "step = 10\n",
        "n_cycle = 20\n",
        "\n",
        "x = []\n",
        "y = []\n",
        "\n",
        "for i in range (0,n_cycle):\n",
        "  x.append(n_s)\n",
        "  data = []\n",
        "  for j in range (0,loop_n):\n",
        "    G = make_random_graph(n_s, p)\n",
        "    G = G.subgraph(max(nx.connected_components(G), key=len))\n",
        "    data.append(nx.algorithms.distance_measures.diameter(G))\n",
        "  y.append(average(data))\n",
        "  n_s += step\n",
        "\n",
        "plt.plot(x, y)\n",
        "plt.xlabel('Number of persons (node numbers)')\n",
        "plt.ylabel('Max shortest path (diameter of Graph)')\n",
        "plt.title('Part 5-3')\n",
        "plt.show()"
      ],
      "metadata": {
        "colab": {
          "base_uri": "https://localhost:8080/",
          "height": 295
        },
        "id": "5GBDUPB_ONid",
        "outputId": "02c39603-b0e9-4e4b-b1e5-160a0c8f0057"
      },
      "execution_count": null,
      "outputs": [
        {
          "output_type": "display_data",
          "data": {
            "image/png": "[encoded data removed]",
            "text/plain": [
              "<Figure size 432x288 with 1 Axes>"
            ]
          },
          "metadata": {
            "needs_background": "light"
          }
        }
      ]
    },
    {
      "cell_type": "code",
      "source": [
        "# Question 9\n",
        "\n",
        "import networkx as nx \n",
        "\n",
        "n = 100\n",
        "p = 0.34\n",
        "loop_n = 100\n",
        "transitives = []\n",
        "\n",
        "for i in range (0,loop_n):\n",
        "  random_graph = make_random_graph(n, p)\n",
        "  transitive = nx.triangles(random_graph)\n",
        "  transitives.append((sum(transitive.values())/3))\n",
        "\n",
        "print(average(transitives))"
      ],
      "metadata": {
        "colab": {
          "base_uri": "https://localhost:8080/"
        },
        "id": "Q9RVaWK9e089",
        "outputId": "ab5d5eac-c277-4040-849e-f0da655726cc"
      },
      "execution_count": null,
      "outputs": [
        {
          "output_type": "stream",
          "name": "stdout",
          "text": [
            "6406.3\n"
          ]
        }
      ]
    },
    {
      "cell_type": "code",
      "source": [
        "# Question 10\n",
        "\n",
        "import networkx as nx \n",
        "import matplotlib.pyplot as plt\n",
        "\n",
        "n_s = 10\n",
        "loop_n = 100\n",
        "step = 10\n",
        "n_cycle = 10\n",
        "\n",
        "x = []\n",
        "y = []\n",
        "\n",
        "for i in range (0,n_cycle):\n",
        "  x.append(n_s)\n",
        "  transitives = []\n",
        "  p = 60/n_s/n_s\n",
        "  for j in range (0,loop_n):\n",
        "    random_graph = make_random_graph(n_s, p)\n",
        "    transitive = nx.triangles(random_graph)\n",
        "    transitives.append((sum(transitive.values())/3))\n",
        "  n_s += step\n",
        "  y.append(average(transitives))\n",
        "\n",
        "plt.plot(x, y)\n",
        "plt.xlabel('Number of persons (node numbers)')\n",
        "plt.ylabel('Number of friendships (triangles)')\n",
        "plt.title('Part 6-2')\n",
        "plt.show()"
      ],
      "metadata": {
        "colab": {
          "base_uri": "https://localhost:8080/",
          "height": 295
        },
        "id": "e7IQ6cbHiOOG",
        "outputId": "ce6ddd44-799e-4fd4-be7a-3b2c2c22da76"
      },
      "execution_count": null,
      "outputs": [
        {
          "output_type": "display_data",
          "data": {
            "image/png": "[encoded data removed]",
            "text/plain": [
              "<Figure size 432x288 with 1 Axes>"
            ]
          },
          "metadata": {
            "needs_background": "light"
          }
        }
      ]
    },
    {
      "cell_type": "code",
      "source": [
        "# Question 11\n",
        "\n",
        "import networkx as nx \n",
        "import matplotlib.pyplot as plt\n",
        "\n",
        "n_s = 10\n",
        "loop_n = 100\n",
        "step = 10\n",
        "n_cycle = 10\n",
        "p = 0.34\n",
        "\n",
        "x = []\n",
        "y = []\n",
        "\n",
        "for i in range (0,n_cycle):\n",
        "  x.append(n_s)\n",
        "  transitives = []\n",
        "  for j in range (0,loop_n):\n",
        "    random_graph = make_random_graph(n_s, p)\n",
        "    transitive = nx.triangles(random_graph)\n",
        "    transitives.append((sum(transitive.values())/3))\n",
        "  n_s += step\n",
        "  y.append(average(transitives))\n",
        "\n",
        "plt.plot(x, y)\n",
        "plt.xlabel('Number of persons (node numbers)')\n",
        "plt.ylabel('Number of friendships (triangles)')\n",
        "plt.title('Part 6-3')\n",
        "plt.show()"
      ],
      "metadata": {
        "colab": {
          "base_uri": "https://localhost:8080/",
          "height": 295
        },
        "id": "QmesPeDYjPPA",
        "outputId": "9f64d5d0-ebdb-42ae-f579-69cdfe7e15f9"
      },
      "execution_count": null,
      "outputs": [
        {
          "output_type": "display_data",
          "data": {
            "image/png": "[encoded data removed]",
            "text/plain": [
              "<Figure size 432x288 with 1 Axes>"
            ]
          },
          "metadata": {
            "needs_background": "light"
          }
        }
      ]
    },
    {
      "cell_type": "code",
      "source": [
        "# Question 12\n",
        "\n",
        "import networkx as nx \n",
        "import matplotlib.pyplot as plt\n",
        "\n",
        "n_s = 50\n",
        "loop_n = 100\n",
        "step = 50\n",
        "n_cycle = 23\n",
        "\n",
        "transitives = []\n",
        "\n",
        "x = []\n",
        "y = []\n",
        "const = []\n",
        "yy = []\n",
        "\n",
        "for i in range (0,n_cycle):\n",
        "  x.append(n_s)\n",
        "  p = 1/n_s\n",
        "  transitives.clear()\n",
        "  for j in range (0,loop_n):\n",
        "    random_graph = make_random_graph(n_s, p)\n",
        "    transitive = nx.triangles(random_graph)\n",
        "    transitives.append((sum(transitive.values())/3))\n",
        "  n_s += step\n",
        "  y.append(average(transitives))\n",
        "  const.append(1/6)\n",
        "  yy.append(average(y))\n",
        "\n",
        "plt.plot(x, y)\n",
        "plt.plot(x, const,'r-')\n",
        "plt.xlabel('Number of persons (node numbers)')\n",
        "plt.ylabel('Number of friendships (triangles)')\n",
        "plt.title('Part 6-4-1')\n",
        "plt.show()\n",
        "\n",
        "plt.plot(x, yy)\n",
        "plt.xlabel('Number of persons (node numbers)')\n",
        "plt.ylabel('Number of friendships (triangles)')\n",
        "plt.title('Part 6-4-2 - cumulative mean')\n",
        "plt.show()"
      ],
      "metadata": {
        "colab": {
          "base_uri": "https://localhost:8080/",
          "height": 574
        },
        "id": "jd2WxlYVlSGp",
        "outputId": "9dcd6027-96d8-43c5-f218-5087b7fc6073"
      },
      "execution_count": null,
      "outputs": [
        {
          "output_type": "display_data",
          "data": {
            "image/png": "[encoded data removed]",
            "text/plain": [
              "<Figure size 432x288 with 1 Axes>"
            ]
          },
          "metadata": {
            "needs_background": "light"
          }
        },
        {
          "output_type": "display_data",
          "data": {
            "image/png": "[encoded data removed]",
            "text/plain": [
              "<Figure size 432x288 with 1 Axes>"
            ]
          },
          "metadata": {
            "needs_background": "light"
          }
        }
      ]
    },
    {
      "cell_type": "code",
      "source": [
        "# Question 13\n",
        "\n",
        "import networkx as nx \n",
        "\n",
        "n = 150\n",
        "p = 0.2\n",
        "loop_n = 100\n",
        "connected = 0\n",
        "single_node = 0\n",
        "\n",
        "\n",
        "for i in range (0,loop_n):\n",
        "  G = make_random_graph(n, p)\n",
        "\n",
        "  m = 0\n",
        "\n",
        "  if(nx.is_connected(G) == True):\n",
        "    connected += 1\n",
        "  \n",
        "  for j in range (0,n):\n",
        "    if(G.degree(j)==0):\n",
        "      m += 1\n",
        "  \n",
        "  if(m != 0):\n",
        "    single_node += 1\n",
        "\n",
        "print(\"Possibility of single node : \"+str(single_node/loop_n))\n",
        "print(\"Possibility of Connectivity : \"+str(connected/loop_n))"
      ],
      "metadata": {
        "colab": {
          "base_uri": "https://localhost:8080/"
        },
        "id": "VzqRvdiV8nK3",
        "outputId": "ba08b6e9-e5a3-4c5d-cb97-07affe193292"
      },
      "execution_count": null,
      "outputs": [
        {
          "output_type": "stream",
          "name": "stdout",
          "text": [
            "Possibility of single node : 0.0\n",
            "Possibility of Connectivity : 1.0\n"
          ]
        }
      ]
    },
    {
      "cell_type": "code",
      "source": [
        "# Question 14\n",
        "\n",
        "import networkx as nx \n",
        "import numpy as np\n",
        "import matplotlib.pyplot as plt\n",
        "\n",
        "n_s = 10\n",
        "loop_n = 100\n",
        "n_cycle = 14\n",
        "\n",
        "x = []\n",
        "y = []\n",
        "yy = []\n",
        "\n",
        "for p in range (0,n_cycle):\n",
        "\n",
        "  x.append(n_s)\n",
        "\n",
        "  connected = 0\n",
        "  single_node = 0\n",
        "\n",
        "  p = 4*np.log(n_s)/n_s\n",
        "\n",
        "  for i in range (0,loop_n):\n",
        "    G = make_random_graph(n_s, p)\n",
        "\n",
        "    m = 0\n",
        "\n",
        "    if(nx.is_connected(G) == True):\n",
        "      connected += 1\n",
        "    \n",
        "    for j in range (0,n_s):\n",
        "      if(G.degree(j)==0):\n",
        "        m += 1\n",
        "    \n",
        "    if(m != 0):\n",
        "      single_node += 1\n",
        "\n",
        "  y.append(single_node/loop_n)\n",
        "  yy.append(connected/loop_n)\n",
        "  n_s += 10\n",
        "\n",
        "fig, (ax1, ax2) = plt.subplots(1, 2)\n",
        "\n",
        "ax1.plot(x, y)\n",
        "ax2.plot(x, yy)\n",
        "\n",
        "ax1.set_title('Possibility of single node')\n",
        "ax2.set_title('Possibility of Connectivity')\n",
        "\n",
        "fig.text(0.5, 0.04, 'Number of person (node numbers)', ha='center', va='center')\n",
        "fig.text(0.001, 0.5, 'Possibility', ha='center', va='center', rotation='vertical')\n",
        "\n",
        "fig.suptitle('p = 4*ln(n)/n')\n",
        "\n",
        "plt.show()"
      ],
      "metadata": {
        "id": "ncglAZcsJKzR",
        "colab": {
          "base_uri": "https://localhost:8080/",
          "height": 307
        },
        "outputId": "4b4f5d75-87ff-44a8-87e8-95b3e13c6238"
      },
      "execution_count": null,
      "outputs": [
        {
          "output_type": "display_data",
          "data": {
            "image/png": "[encoded data removed]",
            "text/plain": [
              "<Figure size 432x288 with 2 Axes>"
            ]
          },
          "metadata": {
            "needs_background": "light"
          }
        }
      ]
    },
    {
      "cell_type": "code",
      "source": [
        "# Question 15\n",
        "\n",
        "import networkx as nx \n",
        "import numpy as np\n",
        "import matplotlib.pyplot as plt\n",
        "\n",
        "n_s = 10\n",
        "loop_n = 100\n",
        "n_cycle = 14\n",
        "\n",
        "x = []\n",
        "y = []\n",
        "yy = []\n",
        "\n",
        "for p in range (0,n_cycle):\n",
        "\n",
        "  x.append(n_s)\n",
        "\n",
        "  connected = 0\n",
        "  single_node = 0\n",
        "\n",
        "  p = 4/n_s\n",
        "\n",
        "  for i in range (0,loop_n):\n",
        "    G = make_random_graph(n_s, p)\n",
        "\n",
        "    m = 0\n",
        "\n",
        "    if(nx.is_connected(G) == True):\n",
        "      connected += 1\n",
        "    \n",
        "    for j in range (0,n_s):\n",
        "      if(G.degree(j)==0):\n",
        "        m += 1\n",
        "    \n",
        "    if(m != 0):\n",
        "      single_node += 1\n",
        "\n",
        "  y.append(single_node/loop_n)\n",
        "  yy.append(connected/loop_n)\n",
        "  n_s += 10\n",
        "\n",
        "fig, (ax1, ax2) = plt.subplots(1, 2)\n",
        "\n",
        "ax1.plot(x, y)\n",
        "ax2.plot(x, yy)\n",
        "\n",
        "ax1.set_title('Possibility of single node')\n",
        "ax2.set_title('Possibility of Connectivity')\n",
        "\n",
        "fig.text(0.5, 0.04, 'Number of person (node numbers)', ha='center', va='center')\n",
        "fig.text(0.001, 0.5, 'Possibility', ha='center', va='center', rotation='vertical')\n",
        "\n",
        "fig.suptitle('p = 4/n')\n",
        "\n",
        "plt.show()"
      ],
      "metadata": {
        "id": "FiCVPtUtJQNB",
        "colab": {
          "base_uri": "https://localhost:8080/",
          "height": 307
        },
        "outputId": "0e05032f-27e3-452e-fcf2-13b10d5bc189"
      },
      "execution_count": null,
      "outputs": [
        {
          "output_type": "display_data",
          "data": {
            "image/png": "[encoded data removed]",
            "text/plain": [
              "<Figure size 432x288 with 2 Axes>"
            ]
          },
          "metadata": {
            "needs_background": "light"
          }
        }
      ]
    }
  ]
}